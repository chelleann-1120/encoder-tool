{
 "cells": [
  {
   "cell_type": "code",
   "execution_count": 19,
   "metadata": {},
   "outputs": [
    {
     "name": "stdout",
     "output_type": "stream",
     "text": [
      "path_to_image\n"
     ]
    }
   ],
   "source": [
    "import cv2\n",
    "import numpy as np\n",
    "from PIL import Image\n",
    "import matplotlib.pyplot as plt\n",
    "import os\n",
    "\n",
    "class ROI:\n",
    "  '''\n",
    "  Identifies the corresponding region of interest. \n",
    "  '''\n",
    "\n",
    "  def __init__(self, image):\n",
    "    self.image = image\n",
    "\n",
    "  def detect_gridcells(self):\n",
    "    print(self.image)\n",
    "  \n",
    "  def detect_y_axis(self):\n",
    "    pass\n",
    "\n",
    "  def detect_x_axis(self):\n",
    "    pass\n",
    "\n",
    "  def detect_legend(self):\n",
    "    pass\n",
    "\n",
    "class TextExtraction:\n",
    "  '''\n",
    "  Extracting the text within the region of interest\n",
    "  '''\n",
    "\n",
    "  def __init__(self):\n",
    "    pass\n",
    "\n",
    "  def extract_title(self):\n",
    "    pass\n",
    "\n",
    "  def extract_yaxis_labels(self):\n",
    "    pass\n",
    "\n",
    "  def extract_xaxis_labels(self):\n",
    "    pass\n",
    "\n",
    "  def extract_legend_values(self):\n",
    "    pass\n",
    "\n",
    "class TextRemover:\n",
    "  '''\n",
    "  Removes the extracted text within the region of interest to avoid overlapping of other\n",
    "  irrelevant text within the ROI.\n",
    "  '''\n",
    "\n",
    "  def __init__(self):\n",
    "    pass\n",
    "\n",
    "  def remove_title(self):\n",
    "    pass\n",
    "\n",
    "class ColorExtractor:\n",
    "  pass\n",
    "  \n"
   ]
  }
 ],
 "metadata": {
  "kernelspec": {
   "display_name": "Python 3",
   "language": "python",
   "name": "python3"
  },
  "language_info": {
   "codemirror_mode": {
    "name": "ipython",
    "version": 3
   },
   "file_extension": ".py",
   "mimetype": "text/x-python",
   "name": "python",
   "nbconvert_exporter": "python",
   "pygments_lexer": "ipython3",
   "version": "3.12.2"
  }
 },
 "nbformat": 4,
 "nbformat_minor": 2
}
